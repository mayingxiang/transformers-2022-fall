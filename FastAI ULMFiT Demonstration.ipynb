{
  "cells": [
    {
      "cell_type": "markdown",
      "metadata": {
        "colab_type": "text",
        "id": "gPb1g0g6WRSp"
      },
      "source": [
        "# FastAI ULMFiT Demonstration\n",
        "https://github.com/mayingxiang/transformers-2022-fall"
      ]
    },
    {
      "cell_type": "markdown",
      "metadata": {
        "colab_type": "text",
        "id": "X7tKdQJdWeT_"
      },
      "source": [
        "1. Setup"
      ]
    },
    {
      "cell_type": "code",
      "execution_count": null,
      "metadata": {
        "vscode": {
          "languageId": "python"
        }
      },
      "outputs": [],
      "source": [
        "import pandas as pd\n",
        "import numpy as np\n",
        "from fastai.text import *"
      ]
    },
    {
      "cell_type": "markdown",
      "metadata": {
        "colab_type": "text",
        "id": "_0FqsRgqWo2c"
      },
      "source": [
        "2. Import data"
      ]
    },
    {
      "cell_type": "code",
      "execution_count": 36,
      "metadata": {
        "colab": {
          "base_uri": "https://localhost:8080/",
          "height": 215
        },
        "colab_type": "code",
        "id": "QtJrE3IAcsPM",
        "outputId": "f4cfcdca-1203-493e-ed61-d70df64baada",
        "vscode": {
          "languageId": "python"
        }
      },
      "outputs": [
        {
          "name": "stdout",
          "output_type": "stream",
          "text": [
            "Length of dataset: 20000\n"
          ]
        },
        {
          "data": {
            "text/html": [
              "<div>\n",
              "<style scoped>\n",
              "    .dataframe tbody tr th:only-of-type {\n",
              "        vertical-align: middle;\n",
              "    }\n",
              "\n",
              "    .dataframe tbody tr th {\n",
              "        vertical-align: top;\n",
              "    }\n",
              "\n",
              "    .dataframe thead th {\n",
              "        text-align: right;\n",
              "    }\n",
              "</style>\n",
              "<table border=\"1\" class=\"dataframe\">\n",
              "  <thead>\n",
              "    <tr style=\"text-align: right;\">\n",
              "      <th></th>\n",
              "      <th>label</th>\n",
              "      <th>text</th>\n",
              "    </tr>\n",
              "  </thead>\n",
              "  <tbody>\n",
              "    <tr>\n",
              "      <th>0</th>\n",
              "      <td>18</td>\n",
              "      <td>How do I fill a DataSet or a DataTable from a LINQ query resultset ?</td>\n",
              "    </tr>\n",
              "    <tr>\n",
              "      <th>1</th>\n",
              "      <td>18</td>\n",
              "      <td>How do you page a collection with LINQ?</td>\n",
              "    </tr>\n",
              "    <tr>\n",
              "      <th>2</th>\n",
              "      <td>3</td>\n",
              "      <td>Best Subversion clients for Windows Vista (64bit)</td>\n",
              "    </tr>\n",
              "    <tr>\n",
              "      <th>3</th>\n",
              "      <td>3</td>\n",
              "      <td>Best Practice: Collaborative Environment, Bin Directory, SVN</td>\n",
              "    </tr>\n",
              "    <tr>\n",
              "      <th>4</th>\n",
              "      <td>7</td>\n",
              "      <td>Visual Studio Setup Project - Per User Registry Settings</td>\n",
              "    </tr>\n",
              "  </tbody>\n",
              "</table>\n",
              "</div>"
            ],
            "text/plain": [
              "   label                                                                  text\n",
              "0  18     How do I fill a DataSet or a DataTable from a LINQ query resultset ?\n",
              "1  18     How do you page a collection with LINQ?                             \n",
              "2  3      Best Subversion clients for Windows Vista (64bit)                   \n",
              "3  3      Best Practice: Collaborative Environment, Bin Directory, SVN        \n",
              "4  7      Visual Studio Setup Project - Per User Registry Settings            "
            ]
          },
          "execution_count": 36,
          "metadata": {
            "tags": []
          },
          "output_type": "execute_result"
        }
      ],
      "source": [
        "text_path = 'title_StackOverflow.txt'\n",
        "label_path = 'label_StackOverflow.txt'\n",
        "\n",
        "df_text = pd.read_csv(text_path, sep='\\t', names=['text'], header=None)\n",
        "df_label = pd.read_csv(label_path, sep='\\t', names=['label'], header=None)\n",
        "\n",
        "df = pd.concat([df_label, df_text], axis=1, sort=False)\n",
        "print('Length of dataset: '+str(len(df.index)))\n",
        "df.head()"
      ]
    },
    {
      "cell_type": "code",
      "execution_count": 37,
      "metadata": {
        "colab": {
          "base_uri": "https://localhost:8080/",
          "height": 198
        },
        "colab_type": "code",
        "id": "ZRjYAd0zATIu",
        "outputId": "125837b4-96aa-4540-81fc-377e4b3e53e9",
        "vscode": {
          "languageId": "python"
        }
      },
      "outputs": [
        {
          "data": {
            "text/html": [
              "<div>\n",
              "<style scoped>\n",
              "    .dataframe tbody tr th:only-of-type {\n",
              "        vertical-align: middle;\n",
              "    }\n",
              "\n",
              "    .dataframe tbody tr th {\n",
              "        vertical-align: top;\n",
              "    }\n",
              "\n",
              "    .dataframe thead th {\n",
              "        text-align: right;\n",
              "    }\n",
              "</style>\n",
              "<table border=\"1\" class=\"dataframe\">\n",
              "  <thead>\n",
              "    <tr style=\"text-align: right;\">\n",
              "      <th></th>\n",
              "      <th>label</th>\n",
              "      <th>text</th>\n",
              "    </tr>\n",
              "  </thead>\n",
              "  <tbody>\n",
              "    <tr>\n",
              "      <th>0</th>\n",
              "      <td>linq</td>\n",
              "      <td>How do I fill a DataSet or a DataTable from a LINQ query resultset ?</td>\n",
              "    </tr>\n",
              "    <tr>\n",
              "      <th>1</th>\n",
              "      <td>linq</td>\n",
              "      <td>How do you page a collection with LINQ?</td>\n",
              "    </tr>\n",
              "    <tr>\n",
              "      <th>2</th>\n",
              "      <td>svn</td>\n",
              "      <td>Best Subversion clients for Windows Vista (64bit)</td>\n",
              "    </tr>\n",
              "    <tr>\n",
              "      <th>3</th>\n",
              "      <td>svn</td>\n",
              "      <td>Best Practice: Collaborative Environment, Bin Directory, SVN</td>\n",
              "    </tr>\n",
              "    <tr>\n",
              "      <th>4</th>\n",
              "      <td>visual-studio</td>\n",
              "      <td>Visual Studio Setup Project - Per User Registry Settings</td>\n",
              "    </tr>\n",
              "  </tbody>\n",
              "</table>\n",
              "</div>"
            ],
            "text/plain": [
              "           label                                                                  text\n",
              "0  linq           How do I fill a DataSet or a DataTable from a LINQ query resultset ?\n",
              "1  linq           How do you page a collection with LINQ?                             \n",
              "2  svn            Best Subversion clients for Windows Vista (64bit)                   \n",
              "3  svn            Best Practice: Collaborative Environment, Bin Directory, SVN        \n",
              "4  visual-studio  Visual Studio Setup Project - Per User Registry Settings            "
            ]
          },
          "execution_count": 37,
          "metadata": {
            "tags": []
          },
          "output_type": "execute_result"
        }
      ],
      "source": [
        "mapping = {\n",
        "  1: 'wordpress',\n",
        "  2: 'oracle',\n",
        "  3: 'svn',\n",
        "  4: 'apache',\n",
        "  5: 'excel',\n",
        "  6: 'matlab',\n",
        "  7: 'visual-studio',\n",
        "  8: 'cocoa',\n",
        "  9: 'osx',\n",
        "  10: 'bash',\n",
        "  11: 'spring',\n",
        "  12: 'hibernate',\n",
        "  13: 'scala',\n",
        "  14: 'sharepoint',\n",
        "  15: 'ajax',\n",
        "  16: 'qt',\n",
        "  17: 'drupal',\n",
        "  18: 'linq',\n",
        "  19: 'haskell',\n",
        "  20: 'magento'\n",
        "}\n",
        "\n",
        "df['label'] = df['label'].map(mapping)\n",
        "\n",
        "df.head()"
      ]
    },
    {
      "cell_type": "markdown",
      "metadata": {
        "colab_type": "text",
        "id": "7SSQyf-RWwnG"
      },
      "source": [
        "3. Create train set and validation set"
      ]
    },
    {
      "cell_type": "code",
      "execution_count": 38,
      "metadata": {
        "colab": {
          "base_uri": "https://localhost:8080/",
          "height": 35
        },
        "colab_type": "code",
        "id": "86impBLW82I9",
        "outputId": "901fe1c3-4898-46a0-964f-12419e9af846",
        "vscode": {
          "languageId": "python"
        }
      },
      "outputs": [
        {
          "data": {
            "text/plain": [
              "((14000, 2), (6000, 2))"
            ]
          },
          "execution_count": 38,
          "metadata": {
            "tags": []
          },
          "output_type": "execute_result"
        }
      ],
      "source": [
        "from sklearn.model_selection import train_test_split\n",
        "\n",
        "df_trn, df_val = train_test_split(df, stratify = df['label'], test_size = 0.3)\n",
        "\n",
        "df_trn.shape, df_val.shape"
      ]
    },
    {
      "cell_type": "code",
      "execution_count": null,
      "metadata": {
        "colab": {},
        "colab_type": "code",
        "id": "yx5Z7N6v85y8",
        "vscode": {
          "languageId": "python"
        }
      },
      "outputs": [],
      "source": [
        "data_lm = TextLMDataBunch.from_df(train_df = df_trn, valid_df = df_val, path = \"\")\n",
        "data_clas = TextClasDataBunch.from_df(train_df = df_trn, valid_df = df_val, path = \"\", vocab=data_lm.train_ds.vocab, bs=32)"
      ]
    },
    {
      "cell_type": "code",
      "execution_count": null,
      "metadata": {
        "colab": {},
        "colab_type": "code",
        "id": "Jo1xRTOP9J_2",
        "vscode": {
          "languageId": "python"
        }
      },
      "outputs": [],
      "source": [
        "data_lm.save('data_lm_export.pkl')\n",
        "data_clas.save('data_clas_export.pkl')\n",
        "data_lm = load_data('./', 'data_lm_export.pkl')\n",
        "data_clas = load_data('./', 'data_clas_export.pkl', bs=64)"
      ]
    },
    {
      "cell_type": "markdown",
      "metadata": {
        "colab_type": "text",
        "id": "5UsS_KdIW6DS"
      },
      "source": [
        "4. Train the Language Model"
      ]
    },
    {
      "cell_type": "code",
      "execution_count": null,
      "metadata": {
        "colab": {},
        "colab_type": "code",
        "id": "l-IrOyNv9UIL",
        "vscode": {
          "languageId": "python"
        }
      },
      "outputs": [],
      "source": [
        "learn = language_model_learner(data_lm, AWD_LSTM, drop_mult=0.3)"
      ]
    },
    {
      "cell_type": "code",
      "execution_count": 43,
      "metadata": {
        "colab": {
          "base_uri": "https://localhost:8080/",
          "height": 335
        },
        "colab_type": "code",
        "id": "vmCBf6aQ9X0J",
        "outputId": "d681b54d-e4f6-4463-8d65-6fcf7e5a7e1c",
        "vscode": {
          "languageId": "python"
        }
      },
      "outputs": [
        {
          "data": {
            "text/html": [],
            "text/plain": [
              "<IPython.core.display.HTML object>"
            ]
          },
          "metadata": {
            "tags": []
          },
          "output_type": "display_data"
        },
        {
          "name": "stdout",
          "output_type": "stream",
          "text": [
            "LR Finder is complete, type {learner_name}.recorder.plot() to see the graph.\n",
            "Min numerical gradient: 3.31E-02\n",
            "Min loss divided by 10: 7.59E-02\n"
          ]
        },
        {
          "data": {
            "image/png": "[encoded data removed]",
            "text/plain": [
              "<Figure size 432x288 with 1 Axes>"
            ]
          },
          "metadata": {
            "tags": []
          },
          "output_type": "display_data"
        }
      ],
      "source": [
        "learn.lr_find()\n",
        "learn.recorder.plot(suggestion=True)\n",
        "min_grad_lr = learn.recorder.min_grad_lr"
      ]
    },
    {
      "cell_type": "code",
      "execution_count": 44,
      "metadata": {
        "colab": {
          "base_uri": "https://localhost:8080/",
          "height": 108
        },
        "colab_type": "code",
        "id": "dQoyexxK9bV5",
        "outputId": "97ab094f-9dde-43bc-cc0d-2b42fc817a66",
        "vscode": {
          "languageId": "python"
        }
      },
      "outputs": [
        {
          "data": {
            "text/html": [
              "<table border=\"1\" class=\"dataframe\">\n",
              "  <thead>\n",
              "    <tr style=\"text-align: left;\">\n",
              "      <th>epoch</th>\n",
              "      <th>train_loss</th>\n",
              "      <th>valid_loss</th>\n",
              "      <th>accuracy</th>\n",
              "      <th>time</th>\n",
              "    </tr>\n",
              "  </thead>\n",
              "  <tbody>\n",
              "    <tr>\n",
              "      <td>0</td>\n",
              "      <td>4.840412</td>\n",
              "      <td>4.063015</td>\n",
              "      <td>0.314076</td>\n",
              "      <td>00:14</td>\n",
              "    </tr>\n",
              "    <tr>\n",
              "      <td>1</td>\n",
              "      <td>4.135231</td>\n",
              "      <td>3.952360</td>\n",
              "      <td>0.322781</td>\n",
              "      <td>00:14</td>\n",
              "    </tr>\n",
              "  </tbody>\n",
              "</table>"
            ],
            "text/plain": [
              "<IPython.core.display.HTML object>"
            ]
          },
          "metadata": {
            "tags": []
          },
          "output_type": "display_data"
        }
      ],
      "source": [
        "learn.fit_one_cycle(2, min_grad_lr)"
      ]
    },
    {
      "cell_type": "code",
      "execution_count": 45,
      "metadata": {
        "colab": {
          "base_uri": "https://localhost:8080/",
          "height": 108
        },
        "colab_type": "code",
        "id": "sp0jzmcR9cF6",
        "outputId": "7114486a-63df-4618-fcda-57cfcc6e4407",
        "vscode": {
          "languageId": "python"
        }
      },
      "outputs": [
        {
          "data": {
            "text/html": [
              "<table border=\"1\" class=\"dataframe\">\n",
              "  <thead>\n",
              "    <tr style=\"text-align: left;\">\n",
              "      <th>epoch</th>\n",
              "      <th>train_loss</th>\n",
              "      <th>valid_loss</th>\n",
              "      <th>accuracy</th>\n",
              "      <th>time</th>\n",
              "    </tr>\n",
              "  </thead>\n",
              "  <tbody>\n",
              "    <tr>\n",
              "      <td>0</td>\n",
              "      <td>3.542882</td>\n",
              "      <td>3.825899</td>\n",
              "      <td>0.336423</td>\n",
              "      <td>00:18</td>\n",
              "    </tr>\n",
              "    <tr>\n",
              "      <td>1</td>\n",
              "      <td>3.368596</td>\n",
              "      <td>3.830364</td>\n",
              "      <td>0.338944</td>\n",
              "      <td>00:18</td>\n",
              "    </tr>\n",
              "  </tbody>\n",
              "</table>"
            ],
            "text/plain": [
              "<IPython.core.display.HTML object>"
            ]
          },
          "metadata": {
            "tags": []
          },
          "output_type": "display_data"
        }
      ],
      "source": [
        "learn.unfreeze()\n",
        "learn.fit_one_cycle(2, 1e-3)"
      ]
    },
    {
      "cell_type": "code",
      "execution_count": null,
      "metadata": {
        "colab": {},
        "colab_type": "code",
        "id": "WgIcbM439kjI",
        "vscode": {
          "languageId": "python"
        }
      },
      "outputs": [],
      "source": [
        "learn.save_encoder('ft_enc')"
      ]
    },
    {
      "cell_type": "markdown",
      "metadata": {
        "colab_type": "text",
        "id": "-qfpJf2fXAQY"
      },
      "source": [
        "5. Using the language model to train classifier"
      ]
    },
    {
      "cell_type": "code",
      "execution_count": null,
      "metadata": {
        "colab": {},
        "colab_type": "code",
        "id": "-dJUmbri9n3v",
        "vscode": {
          "languageId": "python"
        }
      },
      "outputs": [],
      "source": [
        "learn = text_classifier_learner(data_clas, AWD_LSTM, drop_mult=0.5)\n",
        "learn.load_encoder('ft_enc')"
      ]
    },
    {
      "cell_type": "code",
      "execution_count": 49,
      "metadata": {
        "colab": {
          "base_uri": "https://localhost:8080/",
          "height": 335
        },
        "colab_type": "code",
        "id": "jOBRWdea9s2L",
        "outputId": "94361726-d554-45ac-8cfd-d61871837360",
        "vscode": {
          "languageId": "python"
        }
      },
      "outputs": [
        {
          "data": {
            "text/html": [],
            "text/plain": [
              "<IPython.core.display.HTML object>"
            ]
          },
          "metadata": {
            "tags": []
          },
          "output_type": "display_data"
        },
        {
          "name": "stdout",
          "output_type": "stream",
          "text": [
            "LR Finder is complete, type {learner_name}.recorder.plot() to see the graph.\n",
            "Min numerical gradient: 5.75E-02\n",
            "Min loss divided by 10: 1.74E-02\n"
          ]
        },
        {
          "data": {
            "image/png": "[encoded data removed]",
            "text/plain": [
              "<Figure size 432x288 with 1 Axes>"
            ]
          },
          "metadata": {
            "tags": []
          },
          "output_type": "display_data"
        }
      ],
      "source": [
        "learn.lr_find()\n",
        "learn.recorder.plot(suggestion=True)\n",
        "min_grad_lr = learn.recorder.min_grad_lr"
      ]
    },
    {
      "cell_type": "code",
      "execution_count": 50,
      "metadata": {
        "colab": {
          "base_uri": "https://localhost:8080/",
          "height": 108
        },
        "colab_type": "code",
        "id": "3H7e89ab9u9K",
        "outputId": "bb87c897-b0f4-4930-98d2-2462d790d0a9",
        "vscode": {
          "languageId": "python"
        }
      },
      "outputs": [
        {
          "data": {
            "text/html": [
              "<table border=\"1\" class=\"dataframe\">\n",
              "  <thead>\n",
              "    <tr style=\"text-align: left;\">\n",
              "      <th>epoch</th>\n",
              "      <th>train_loss</th>\n",
              "      <th>valid_loss</th>\n",
              "      <th>accuracy</th>\n",
              "      <th>time</th>\n",
              "    </tr>\n",
              "  </thead>\n",
              "  <tbody>\n",
              "    <tr>\n",
              "      <td>0</td>\n",
              "      <td>1.806202</td>\n",
              "      <td>1.342678</td>\n",
              "      <td>0.605000</td>\n",
              "      <td>00:10</td>\n",
              "    </tr>\n",
              "    <tr>\n",
              "      <td>1</td>\n",
              "      <td>1.391742</td>\n",
              "      <td>1.032389</td>\n",
              "      <td>0.720333</td>\n",
              "      <td>00:10</td>\n",
              "    </tr>\n",
              "  </tbody>\n",
              "</table>"
            ],
            "text/plain": [
              "<IPython.core.display.HTML object>"
            ]
          },
          "metadata": {
            "tags": []
          },
          "output_type": "display_data"
        }
      ],
      "source": [
        "learn.fit_one_cycle(2, min_grad_lr)"
      ]
    },
    {
      "cell_type": "code",
      "execution_count": 51,
      "metadata": {
        "colab": {
          "base_uri": "https://localhost:8080/",
          "height": 284
        },
        "colab_type": "code",
        "id": "U3AjT6C89yCU",
        "outputId": "c055a98b-b429-4cc5-c2f0-3205dbdcf318",
        "vscode": {
          "languageId": "python"
        }
      },
      "outputs": [
        {
          "data": {
            "image/png": "[encoded data removed]",
            "text/plain": [
              "<Figure size 432x288 with 1 Axes>"
            ]
          },
          "metadata": {
            "tags": []
          },
          "output_type": "display_data"
        }
      ],
      "source": [
        "learn.recorder.plot_losses()"
      ]
    },
    {
      "cell_type": "code",
      "execution_count": 52,
      "metadata": {
        "colab": {
          "base_uri": "https://localhost:8080/",
          "height": 168
        },
        "colab_type": "code",
        "id": "cXzFnXvR91b8",
        "outputId": "8082e22d-b588-4f48-9af1-92e360a877dd",
        "vscode": {
          "languageId": "python"
        }
      },
      "outputs": [
        {
          "data": {
            "text/html": [
              "<table border=\"1\" class=\"dataframe\">\n",
              "  <thead>\n",
              "    <tr style=\"text-align: left;\">\n",
              "      <th>epoch</th>\n",
              "      <th>train_loss</th>\n",
              "      <th>valid_loss</th>\n",
              "      <th>accuracy</th>\n",
              "      <th>time</th>\n",
              "    </tr>\n",
              "  </thead>\n",
              "  <tbody>\n",
              "    <tr>\n",
              "      <td>0</td>\n",
              "      <td>1.309619</td>\n",
              "      <td>0.798372</td>\n",
              "      <td>0.779833</td>\n",
              "      <td>00:11</td>\n",
              "    </tr>\n",
              "    <tr>\n",
              "      <td>1</td>\n",
              "      <td>1.057222</td>\n",
              "      <td>0.642959</td>\n",
              "      <td>0.819667</td>\n",
              "      <td>00:12</td>\n",
              "    </tr>\n",
              "    <tr>\n",
              "      <td>2</td>\n",
              "      <td>0.841182</td>\n",
              "      <td>0.595715</td>\n",
              "      <td>0.832667</td>\n",
              "      <td>00:12</td>\n",
              "    </tr>\n",
              "    <tr>\n",
              "      <td>3</td>\n",
              "      <td>0.754000</td>\n",
              "      <td>0.586629</td>\n",
              "      <td>0.832667</td>\n",
              "      <td>00:12</td>\n",
              "    </tr>\n",
              "  </tbody>\n",
              "</table>"
            ],
            "text/plain": [
              "<IPython.core.display.HTML object>"
            ]
          },
          "metadata": {
            "tags": []
          },
          "output_type": "display_data"
        }
      ],
      "source": [
        "learn.freeze_to(-2)\n",
        "learn.fit_one_cycle(4, slice(5e-3, 2e-3), moms=(0.8,0.7))"
      ]
    },
    {
      "cell_type": "code",
      "execution_count": 53,
      "metadata": {
        "colab": {
          "base_uri": "https://localhost:8080/",
          "height": 284
        },
        "colab_type": "code",
        "id": "17tFKFBW95md",
        "outputId": "d7f67ada-be2a-4057-8b62-fa23c48a04c4",
        "vscode": {
          "languageId": "python"
        }
      },
      "outputs": [
        {
          "data": {
            "image/png": "[encoded data removed]",
            "text/plain": [
              "<Figure size 432x288 with 1 Axes>"
            ]
          },
          "metadata": {
            "tags": []
          },
          "output_type": "display_data"
        }
      ],
      "source": [
        "learn.recorder.plot_losses()"
      ]
    },
    {
      "cell_type": "code",
      "execution_count": 54,
      "metadata": {
        "colab": {
          "base_uri": "https://localhost:8080/",
          "height": 168
        },
        "colab_type": "code",
        "id": "b5QHV_gO98Ze",
        "outputId": "136fad32-0a8a-4ed1-eb9d-984078a4a822",
        "vscode": {
          "languageId": "python"
        }
      },
      "outputs": [
        {
          "data": {
            "text/html": [
              "<table border=\"1\" class=\"dataframe\">\n",
              "  <thead>\n",
              "    <tr style=\"text-align: left;\">\n",
              "      <th>epoch</th>\n",
              "      <th>train_loss</th>\n",
              "      <th>valid_loss</th>\n",
              "      <th>accuracy</th>\n",
              "      <th>time</th>\n",
              "    </tr>\n",
              "  </thead>\n",
              "  <tbody>\n",
              "    <tr>\n",
              "      <td>0</td>\n",
              "      <td>0.653609</td>\n",
              "      <td>0.558160</td>\n",
              "      <td>0.838167</td>\n",
              "      <td>00:23</td>\n",
              "    </tr>\n",
              "    <tr>\n",
              "      <td>1</td>\n",
              "      <td>0.582657</td>\n",
              "      <td>0.532493</td>\n",
              "      <td>0.846000</td>\n",
              "      <td>00:22</td>\n",
              "    </tr>\n",
              "    <tr>\n",
              "      <td>2</td>\n",
              "      <td>0.516326</td>\n",
              "      <td>0.517132</td>\n",
              "      <td>0.851333</td>\n",
              "      <td>00:25</td>\n",
              "    </tr>\n",
              "    <tr>\n",
              "      <td>3</td>\n",
              "      <td>0.472621</td>\n",
              "      <td>0.516339</td>\n",
              "      <td>0.852833</td>\n",
              "      <td>00:26</td>\n",
              "    </tr>\n",
              "  </tbody>\n",
              "</table>"
            ],
            "text/plain": [
              "<IPython.core.display.HTML object>"
            ]
          },
          "metadata": {
            "tags": []
          },
          "output_type": "display_data"
        }
      ],
      "source": [
        "learn.unfreeze()\n",
        "learn.fit_one_cycle(4, slice(2e-3/100, 2e-3), moms=(0.8,0.7))"
      ]
    },
    {
      "cell_type": "markdown",
      "metadata": {
        "colab_type": "text",
        "id": "XUf_GA3bXIEn"
      },
      "source": [
        "6. Result analysis"
      ]
    },
    {
      "cell_type": "code",
      "execution_count": 55,
      "metadata": {
        "colab": {
          "base_uri": "https://localhost:8080/",
          "height": 311
        },
        "colab_type": "code",
        "id": "INCp-Ozi-BfK",
        "outputId": "51b36540-93e7-4bd3-df51-04178b06ee3f",
        "vscode": {
          "languageId": "python"
        }
      },
      "outputs": [
        {
          "data": {
            "image/png": "[encoded data removed]",
            "text/plain": [
              "<Figure size 432x288 with 1 Axes>"
            ]
          },
          "metadata": {
            "tags": []
          },
          "output_type": "display_data"
        }
      ],
      "source": [
        "preds,y,losses = learn.get_preds(with_loss=True)\n",
        "interp = ClassificationInterpretation(learn, preds, y, losses)\n",
        "interp.plot_confusion_matrix()"
      ]
    },
    {
      "cell_type": "code",
      "execution_count": 56,
      "metadata": {
        "colab": {
          "base_uri": "https://localhost:8080/",
          "height": 1000
        },
        "colab_type": "code",
        "id": "Etgy39mH-ED-",
        "outputId": "85ef628a-f24d-4c9a-aed5-387fc3d693de",
        "vscode": {
          "languageId": "python"
        }
      },
      "outputs": [
        {
          "data": {
            "text/plain": [
              "[('osx', 'cocoa', 41),\n",
              " ('qt', 'cocoa', 30),\n",
              " ('cocoa', 'osx', 25),\n",
              " ('scala', 'haskell', 16),\n",
              " ('cocoa', 'qt', 11),\n",
              " ('osx', 'qt', 11),\n",
              " ('spring', 'hibernate', 11),\n",
              " ('ajax', 'apache', 10),\n",
              " ('ajax', 'cocoa', 10),\n",
              " ('bash', 'osx', 10),\n",
              " ('svn', 'visual-studio', 10),\n",
              " ('hibernate', 'spring', 9),\n",
              " ('matlab', 'bash', 9),\n",
              " ('osx', 'svn', 9),\n",
              " ('sharepoint', 'cocoa', 9),\n",
              " ('bash', 'cocoa', 8),\n",
              " ('cocoa', 'bash', 8),\n",
              " ('hibernate', 'oracle', 8),\n",
              " ('scala', 'qt', 8),\n",
              " ('sharepoint', 'visual-studio', 8),\n",
              " ('spring', 'cocoa', 8),\n",
              " ('apache', 'ajax', 7),\n",
              " ('bash', 'qt', 7),\n",
              " ('cocoa', 'oracle', 7),\n",
              " ('excel', 'cocoa', 7),\n",
              " ('osx', 'visual-studio', 7),\n",
              " ('spring', 'qt', 7),\n",
              " ('ajax', 'spring', 6),\n",
              " ('apache', 'osx', 6),\n",
              " ('bash', 'apache', 6),\n",
              " ('drupal', 'magento', 6),\n",
              " ('drupal', 'sharepoint', 6),\n",
              " ('haskell', 'cocoa', 6),\n",
              " ('hibernate', 'cocoa', 6),\n",
              " ('hibernate', 'linq', 6),\n",
              " ('matlab', 'cocoa', 6),\n",
              " ('osx', 'ajax', 6),\n",
              " ('osx', 'bash', 6),\n",
              " ('qt', 'bash', 6),\n",
              " ('qt', 'haskell', 6),\n",
              " ('sharepoint', 'qt', 6),\n",
              " ('svn', 'cocoa', 6),\n",
              " ('visual-studio', 'cocoa', 6),\n",
              " ('ajax', 'oracle', 5),\n",
              " ('apache', 'cocoa', 5),\n",
              " ('apache', 'spring', 5),\n",
              " ('apache', 'svn', 5),\n",
              " ('drupal', 'cocoa', 5),\n",
              " ('haskell', 'scala', 5),\n",
              " ('linq', 'cocoa', 5),\n",
              " ('linq', 'visual-studio', 5),\n",
              " ('osx', 'apache', 5),\n",
              " ('qt', 'ajax', 5),\n",
              " ('qt', 'osx', 5),\n",
              " ('spring', 'oracle', 5),\n",
              " ('spring', 'scala', 5),\n",
              " ('wordpress', 'ajax', 5),\n",
              " ('ajax', 'bash', 4),\n",
              " ('apache', 'bash', 4),\n",
              " ('bash', 'ajax', 4),\n",
              " ('bash', 'haskell', 4),\n",
              " ('cocoa', 'matlab', 4),\n",
              " ('drupal', 'apache', 4),\n",
              " ('drupal', 'wordpress', 4),\n",
              " ('excel', 'matlab', 4),\n",
              " ('haskell', 'oracle', 4),\n",
              " ('linq', 'excel', 4),\n",
              " ('linq', 'hibernate', 4),\n",
              " ('magento', 'cocoa', 4),\n",
              " ('qt', 'spring', 4),\n",
              " ('qt', 'wordpress', 4),\n",
              " ('sharepoint', 'excel', 4),\n",
              " ('spring', 'ajax', 4),\n",
              " ('svn', 'bash', 4),\n",
              " ('visual-studio', 'ajax', 4),\n",
              " ('visual-studio', 'excel', 4),\n",
              " ('visual-studio', 'oracle', 4),\n",
              " ('visual-studio', 'qt', 4),\n",
              " ('visual-studio', 'sharepoint', 4),\n",
              " ('wordpress', 'apache', 4),\n",
              " ('ajax', 'qt', 3),\n",
              " ('ajax', 'sharepoint', 3),\n",
              " ('bash', 'svn', 3),\n",
              " ('cocoa', 'drupal', 3),\n",
              " ('cocoa', 'haskell', 3),\n",
              " ('cocoa', 'linq', 3),\n",
              " ('cocoa', 'scala', 3),\n",
              " ('cocoa', 'sharepoint', 3),\n",
              " ('cocoa', 'spring', 3),\n",
              " ('cocoa', 'visual-studio', 3),\n",
              " ('drupal', 'ajax', 3),\n",
              " ('drupal', 'bash', 3),\n",
              " ('excel', 'sharepoint', 3),\n",
              " ('excel', 'visual-studio', 3),\n",
              " ('haskell', 'osx', 3),\n",
              " ('haskell', 'qt', 3),\n",
              " ('haskell', 'spring', 3),\n",
              " ('hibernate', 'scala', 3),\n",
              " ('linq', 'oracle', 3),\n",
              " ('linq', 'scala', 3),\n",
              " ('linq', 'spring', 3),\n",
              " ('magento', 'wordpress', 3),\n",
              " ('oracle', 'ajax', 3),\n",
              " ('oracle', 'bash', 3),\n",
              " ('oracle', 'cocoa', 3),\n",
              " ('oracle', 'excel', 3),\n",
              " ('oracle', 'hibernate', 3),\n",
              " ('oracle', 'linq', 3),\n",
              " ('osx', 'matlab', 3),\n",
              " ('qt', 'visual-studio', 3),\n",
              " ('scala', 'cocoa', 3),\n",
              " ('sharepoint', 'spring', 3),\n",
              " ('svn', 'apache', 3),\n",
              " ('svn', 'qt', 3),\n",
              " ('svn', 'spring', 3),\n",
              " ('visual-studio', 'bash', 3),\n",
              " ('wordpress', 'cocoa', 3),\n",
              " ('wordpress', 'drupal', 3),\n",
              " ('wordpress', 'qt', 3),\n",
              " ('wordpress', 'sharepoint', 3),\n",
              " ('ajax', 'drupal', 2),\n",
              " ('ajax', 'wordpress', 2),\n",
              " ('apache', 'wordpress', 2),\n",
              " ('bash', 'visual-studio', 2),\n",
              " ('cocoa', 'ajax', 2),\n",
              " ('cocoa', 'magento', 2),\n",
              " ('cocoa', 'wordpress', 2),\n",
              " ('drupal', 'oracle', 2),\n",
              " ('excel', 'bash', 2),\n",
              " ('excel', 'osx', 2),\n",
              " ('excel', 'spring', 2),\n",
              " ('haskell', 'bash', 2),\n",
              " ('haskell', 'linq', 2),\n",
              " ('haskell', 'visual-studio', 2),\n",
              " ('hibernate', 'haskell', 2),\n",
              " ('linq', 'bash', 2),\n",
              " ('linq', 'haskell', 2),\n",
              " ('linq', 'matlab', 2),\n",
              " ('linq', 'sharepoint', 2),\n",
              " ('linq', 'svn', 2),\n",
              " ('magento', 'apache', 2),\n",
              " ('magento', 'osx', 2),\n",
              " ('magento', 'sharepoint', 2),\n",
              " ('matlab', 'excel', 2),\n",
              " ('matlab', 'haskell', 2),\n",
              " ('matlab', 'magento', 2),\n",
              " ('matlab', 'osx', 2),\n",
              " ('matlab', 'qt', 2),\n",
              " ('matlab', 'spring', 2),\n",
              " ('oracle', 'matlab', 2),\n",
              " ('oracle', 'sharepoint', 2),\n",
              " ('oracle', 'svn', 2),\n",
              " ('oracle', 'visual-studio', 2),\n",
              " ('osx', 'drupal', 2),\n",
              " ('osx', 'haskell', 2),\n",
              " ('osx', 'oracle', 2),\n",
              " ('qt', 'scala', 2),\n",
              " ('scala', 'ajax', 2),\n",
              " ('scala', 'linq', 2),\n",
              " ('scala', 'matlab', 2),\n",
              " ('scala', 'oracle', 2),\n",
              " ('scala', 'spring', 2),\n",
              " ('scala', 'visual-studio', 2),\n",
              " ('sharepoint', 'drupal', 2),\n",
              " ('sharepoint', 'linq', 2),\n",
              " ('spring', 'visual-studio', 2),\n",
              " ('svn', 'haskell', 2),\n",
              " ('svn', 'magento', 2),\n",
              " ('svn', 'osx', 2),\n",
              " ('svn', 'sharepoint', 2),\n",
              " ('visual-studio', 'haskell', 2),\n",
              " ('visual-studio', 'magento', 2),\n",
              " ('visual-studio', 'svn', 2),\n",
              " ('wordpress', 'magento', 2),\n",
              " ('wordpress', 'spring', 2),\n",
              " ('ajax', 'haskell', 1),\n",
              " ('ajax', 'linq', 1),\n",
              " ('ajax', 'magento', 1),\n",
              " ('ajax', 'osx', 1),\n",
              " ('ajax', 'visual-studio', 1),\n",
              " ('apache', 'drupal', 1),\n",
              " ('apache', 'haskell', 1),\n",
              " ('apache', 'magento', 1),\n",
              " ('apache', 'matlab', 1),\n",
              " ('apache', 'oracle', 1),\n",
              " ('apache', 'qt', 1),\n",
              " ('bash', 'hibernate', 1),\n",
              " ('bash', 'linq', 1),\n",
              " ('bash', 'matlab', 1),\n",
              " ('bash', 'oracle', 1),\n",
              " ('bash', 'sharepoint', 1),\n",
              " ('bash', 'spring', 1),\n",
              " ('bash', 'wordpress', 1),\n",
              " ('cocoa', 'apache', 1),\n",
              " ('cocoa', 'svn', 1),\n",
              " ('drupal', 'linq', 1),\n",
              " ('drupal', 'qt', 1),\n",
              " ('drupal', 'spring', 1),\n",
              " ('excel', 'ajax', 1),\n",
              " ('excel', 'apache', 1),\n",
              " ('excel', 'linq', 1),\n",
              " ('excel', 'magento', 1),\n",
              " ('excel', 'qt', 1),\n",
              " ('haskell', 'apache', 1),\n",
              " ('haskell', 'magento', 1),\n",
              " ('haskell', 'matlab', 1),\n",
              " ('haskell', 'svn', 1),\n",
              " ('hibernate', 'ajax', 1),\n",
              " ('hibernate', 'apache', 1),\n",
              " ('hibernate', 'bash', 1),\n",
              " ('hibernate', 'drupal', 1),\n",
              " ('hibernate', 'excel', 1),\n",
              " ('linq', 'ajax', 1),\n",
              " ('linq', 'osx', 1),\n",
              " ('linq', 'qt', 1),\n",
              " ('magento', 'ajax', 1),\n",
              " ('magento', 'bash', 1),\n",
              " ('magento', 'matlab', 1),\n",
              " ('magento', 'oracle', 1),\n",
              " ('magento', 'qt', 1),\n",
              " ('magento', 'spring', 1),\n",
              " ('magento', 'visual-studio', 1),\n",
              " ('matlab', 'sharepoint', 1),\n",
              " ('oracle', 'apache', 1),\n",
              " ('oracle', 'drupal', 1),\n",
              " ('oracle', 'magento', 1),\n",
              " ('oracle', 'osx', 1),\n",
              " ('oracle', 'scala', 1),\n",
              " ('oracle', 'spring', 1),\n",
              " ('osx', 'excel', 1),\n",
              " ('osx', 'magento', 1),\n",
              " ('osx', 'sharepoint', 1),\n",
              " ('osx', 'spring', 1),\n",
              " ('qt', 'apache', 1),\n",
              " ('qt', 'drupal', 1),\n",
              " ('qt', 'excel', 1),\n",
              " ('qt', 'matlab', 1),\n",
              " ('qt', 'oracle', 1),\n",
              " ('qt', 'sharepoint', 1),\n",
              " ('scala', 'hibernate', 1),\n",
              " ('scala', 'svn', 1),\n",
              " ('sharepoint', 'apache', 1),\n",
              " ('sharepoint', 'haskell', 1),\n",
              " ('sharepoint', 'svn', 1),\n",
              " ('sharepoint', 'wordpress', 1),\n",
              " ('spring', 'apache', 1),\n",
              " ('spring', 'bash', 1),\n",
              " ('spring', 'drupal', 1),\n",
              " ('spring', 'osx', 1),\n",
              " ('spring', 'wordpress', 1),\n",
              " ('svn', 'ajax', 1),\n",
              " ('svn', 'excel', 1),\n",
              " ('svn', 'scala', 1),\n",
              " ('visual-studio', 'apache', 1),\n",
              " ('visual-studio', 'linq', 1),\n",
              " ('visual-studio', 'matlab', 1),\n",
              " ('wordpress', 'bash', 1),\n",
              " ('wordpress', 'excel', 1),\n",
              " ('wordpress', 'visual-studio', 1)]"
            ]
          },
          "execution_count": 56,
          "metadata": {
            "tags": []
          },
          "output_type": "execute_result"
        }
      ],
      "source": [
        "interp.most_confused()"
      ]
    },
    {
      "cell_type": "markdown",
      "metadata": {
        "colab_type": "text",
        "id": "0otTxIuBXOvi"
      },
      "source": [
        "7. Predictions"
      ]
    },
    {
      "cell_type": "code",
      "execution_count": 57,
      "metadata": {
        "colab": {
          "base_uri": "https://localhost:8080/",
          "height": 104
        },
        "colab_type": "code",
        "id": "yGtVxuVh-JFT",
        "outputId": "a1cb29c8-ef9f-4087-e096-c5e7eaecdc83",
        "vscode": {
          "languageId": "python"
        }
      },
      "outputs": [
        {
          "data": {
            "text/plain": [
              "(Category cocoa,\n",
              " tensor(3),\n",
              " tensor([0.1329, 0.0255, 0.0075, 0.2108, 0.0212, 0.0048, 0.0121, 0.0144, 0.0074,\n",
              "         0.1576, 0.0061, 0.0078, 0.0666, 0.1396, 0.0068, 0.0484, 0.0539, 0.0068,\n",
              "         0.0418, 0.0280]))"
            ]
          },
          "execution_count": 57,
          "metadata": {
            "tags": []
          },
          "output_type": "execute_result"
        }
      ],
      "source": [
        "learn.predict(\"homebrew not working\")"
      ]
    }
  ],
  "metadata": {
    "accelerator": "GPU",
    "colab": {
      "collapsed_sections": [],
      "name": "ULMFiT tutorial.ipynb",
      "provenance": [],
      "version": "0.3.2"
    },
    "kernelspec": {
      "display_name": "Python 3",
      "name": "python3"
    }
  },
  "nbformat": 4,
  "nbformat_minor": 0
}
